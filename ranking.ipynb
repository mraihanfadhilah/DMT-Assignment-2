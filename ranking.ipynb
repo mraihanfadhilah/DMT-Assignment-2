{
 "cells": [
  {
   "cell_type": "code",
   "execution_count": 1,
   "metadata": {},
   "outputs": [
    {
     "name": "stdout",
     "output_type": "stream",
     "text": [
      "Requirement already satisfied: lightgbm in c:\\users\\muraf\\anaconda3\\lib\\site-packages (3.3.5)\n",
      "Requirement already satisfied: scikit-learn!=0.22.0 in c:\\users\\muraf\\anaconda3\\lib\\site-packages (from lightgbm) (1.0.2)\n",
      "Requirement already satisfied: scipy in c:\\users\\muraf\\anaconda3\\lib\\site-packages (from lightgbm) (1.9.3)\n",
      "Requirement already satisfied: numpy in c:\\users\\muraf\\anaconda3\\lib\\site-packages (from lightgbm) (1.23.5)\n",
      "Requirement already satisfied: wheel in c:\\users\\muraf\\anaconda3\\lib\\site-packages (from lightgbm) (0.37.1)\n",
      "Requirement already satisfied: threadpoolctl>=2.0.0 in c:\\users\\muraf\\anaconda3\\lib\\site-packages (from scikit-learn!=0.22.0->lightgbm) (2.2.0)\n",
      "Requirement already satisfied: joblib>=0.11 in c:\\users\\muraf\\anaconda3\\lib\\site-packages (from scikit-learn!=0.22.0->lightgbm) (1.1.1)\n"
     ]
    },
    {
     "name": "stderr",
     "output_type": "stream",
     "text": [
      "WARNING: Implying --no-binary=:all: due to the presence of --build-option / --global-option / --install-option. Consider using --config-settings for more flexibility.\n",
      "DEPRECATION: --install-option is deprecated because it forces pip to use the 'setup.py install' command which is itself deprecated. pip 23.1 will enforce this behaviour change. A possible replacement is to use --config-settings. Discussion can be found at https://github.com/pypa/pip/issues/11358\n",
      "DEPRECATION: --no-binary currently disables reading from the cache of locally built wheels. In the future --no-binary will not influence the wheel cache. pip 23.1 will enforce this behaviour change. A possible replacement is to use the --no-cache-dir option. You can use the flag --use-feature=no-binary-enable-wheel-cache to test the upcoming behaviour. Discussion can be found at https://github.com/pypa/pip/issues/11453\n"
     ]
    }
   ],
   "source": [
    "!pip install lightgbm --install-option=--gpu\n"
   ]
  },
  {
   "cell_type": "code",
   "execution_count": 2,
   "metadata": {},
   "outputs": [],
   "source": [
    "import pandas as pd\n",
    "import numpy as np\n",
    "import lightgbm as lgb\n"
   ]
  },
  {
   "cell_type": "code",
   "execution_count": 3,
   "metadata": {},
   "outputs": [],
   "source": [
    "training_set = pd.read_csv('data/training_set_VU_DM.csv')"
   ]
  },
  {
   "attachments": {},
   "cell_type": "markdown",
   "metadata": {},
   "source": [
    "Define relevance"
   ]
  },
  {
   "cell_type": "code",
   "execution_count": 11,
   "metadata": {},
   "outputs": [],
   "source": [
    "training_set['relevance'] = training_set['click_bool'] + 4 * training_set['booking_bool']"
   ]
  },
  {
   "attachments": {},
   "cell_type": "markdown",
   "metadata": {},
   "source": [
    "Missing values"
   ]
  },
  {
   "cell_type": "code",
   "execution_count": 12,
   "metadata": {},
   "outputs": [
    {
     "data": {
      "text/plain": [
       "comp1_rate_percent_diff        0.980954\n",
       "comp6_rate_percent_diff        0.980604\n",
       "comp1_rate                     0.975813\n",
       "comp1_inv                      0.973871\n",
       "comp4_rate_percent_diff        0.973563\n",
       "gross_bookings_usd             0.972089\n",
       "comp7_rate_percent_diff        0.972064\n",
       "comp6_rate                     0.951565\n",
       "visitor_hist_starrating        0.949204\n",
       "visitor_hist_adr_usd           0.948977\n",
       "comp6_inv                      0.947366\n",
       "comp4_rate                     0.938008\n",
       "comp7_rate                     0.936401\n",
       "srch_query_affinity_score      0.935986\n",
       "comp4_inv                      0.930690\n",
       "comp7_inv                      0.928117\n",
       "comp3_rate_percent_diff        0.904646\n",
       "comp2_rate_percent_diff        0.887818\n",
       "comp8_rate_percent_diff        0.876021\n",
       "comp5_rate_percent_diff        0.830367\n",
       "comp3_rate                     0.690565\n",
       "comp3_inv                      0.667028\n",
       "comp8_rate                     0.613449\n",
       "comp8_inv                      0.599160\n",
       "comp2_rate                     0.591664\n",
       "comp2_inv                      0.570367\n",
       "comp5_rate                     0.551792\n",
       "comp5_inv                      0.524031\n",
       "orig_destination_distance      0.324258\n",
       "prop_location_score2           0.219902\n",
       "prop_review_score              0.001485\n",
       "click_bool                     0.000000\n",
       "booking_bool                   0.000000\n",
       "srch_id                        0.000000\n",
       "date_time                      0.000000\n",
       "position                       0.000000\n",
       "site_id                        0.000000\n",
       "visitor_location_country_id    0.000000\n",
       "prop_country_id                0.000000\n",
       "prop_id                        0.000000\n",
       "prop_starrating                0.000000\n",
       "prop_brand_bool                0.000000\n",
       "prop_location_score1           0.000000\n",
       "prop_log_historical_price      0.000000\n",
       "price_usd                      0.000000\n",
       "random_bool                    0.000000\n",
       "promotion_flag                 0.000000\n",
       "srch_destination_id            0.000000\n",
       "srch_length_of_stay            0.000000\n",
       "srch_booking_window            0.000000\n",
       "srch_adults_count              0.000000\n",
       "srch_children_count            0.000000\n",
       "srch_room_count                0.000000\n",
       "srch_saturday_night_bool       0.000000\n",
       "relevance                      0.000000\n",
       "dtype: float64"
      ]
     },
     "execution_count": 12,
     "metadata": {},
     "output_type": "execute_result"
    }
   ],
   "source": [
    "missing_values = training_set.isna().mean().sort_values(ascending=False)\n",
    "missing_values"
   ]
  },
  {
   "attachments": {},
   "cell_type": "markdown",
   "metadata": {},
   "source": [
    "Missing values handling\n",
    "\n",
    "- prop_review_score : encode if there is review or not (binary)\n",
    "- location_score2 : copy from location score 1 or remove\n",
    "- "
   ]
  },
  {
   "cell_type": "code",
   "execution_count": null,
   "metadata": {},
   "outputs": [],
   "source": []
  },
  {
   "cell_type": "code",
   "execution_count": null,
   "metadata": {},
   "outputs": [],
   "source": []
  }
 ],
 "metadata": {
  "kernelspec": {
   "display_name": "base",
   "language": "python",
   "name": "python3"
  },
  "language_info": {
   "codemirror_mode": {
    "name": "ipython",
    "version": 3
   },
   "file_extension": ".py",
   "mimetype": "text/x-python",
   "name": "python",
   "nbconvert_exporter": "python",
   "pygments_lexer": "ipython3",
   "version": "3.9.16"
  },
  "orig_nbformat": 4
 },
 "nbformat": 4,
 "nbformat_minor": 2
}
